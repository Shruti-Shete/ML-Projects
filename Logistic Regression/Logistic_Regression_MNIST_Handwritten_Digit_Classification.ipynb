{
  "nbformat": 4,
  "nbformat_minor": 0,
  "metadata": {
    "colab": {
      "provenance": []
    },
    "kernelspec": {
      "name": "python3",
      "display_name": "Python 3"
    }
  },
  "cells": [
    {
      "cell_type": "code",
      "metadata": {
        "id": "DZNYrIDgWkaj"
      },
      "source": [
        "import numpy as np\n",
        "import pandas as pd\n",
        "import matplotlib.pyplot as plt\n",
        "import seaborn as sns"
      ],
      "execution_count": null,
      "outputs": []
    },
    {
      "cell_type": "code",
      "metadata": {
        "id": "h4v2pSoAW3DC"
      },
      "source": [
        "from sklearn.datasets import fetch_openml\n",
        "mnist = fetch_openml('mnist_784')"
      ],
      "execution_count": null,
      "outputs": []
    },
    {
      "cell_type": "code",
      "metadata": {
        "id": "8PO7-pAjXCpB"
      },
      "source": [
        "mnist"
      ],
      "execution_count": null,
      "outputs": []
    },
    {
      "cell_type": "code",
      "metadata": {
        "id": "VfY8kOUOXNPJ",
        "colab": {
          "base_uri": "https://localhost:8080/",
          "height": 134
        },
        "outputId": "2a918c16-e640-4057-b910-a1966224517c"
      },
      "source": [
        "mnist.data"
      ],
      "execution_count": null,
      "outputs": [
        {
          "output_type": "execute_result",
          "data": {
            "text/plain": [
              "array([[0., 0., 0., ..., 0., 0., 0.],\n",
              "       [0., 0., 0., ..., 0., 0., 0.],\n",
              "       [0., 0., 0., ..., 0., 0., 0.],\n",
              "       ...,\n",
              "       [0., 0., 0., ..., 0., 0., 0.],\n",
              "       [0., 0., 0., ..., 0., 0., 0.],\n",
              "       [0., 0., 0., ..., 0., 0., 0.]])"
            ]
          },
          "metadata": {
            "tags": []
          },
          "execution_count": 4
        }
      ]
    },
    {
      "cell_type": "code",
      "metadata": {
        "id": "qssnoYukXP2z",
        "colab": {
          "base_uri": "https://localhost:8080/",
          "height": 34
        },
        "outputId": "5923d64f-39ac-4d0f-8ddc-c4fd5a50f08a"
      },
      "source": [
        "#total samples are 70000,Total pixel=784\n",
        "mnist.data.shape"
      ],
      "execution_count": null,
      "outputs": [
        {
          "output_type": "execute_result",
          "data": {
            "text/plain": [
              "(70000, 784)"
            ]
          },
          "metadata": {
            "tags": []
          },
          "execution_count": 5
        }
      ]
    },
    {
      "cell_type": "code",
      "metadata": {
        "id": "BeVdD8axXtfF",
        "colab": {
          "base_uri": "https://localhost:8080/",
          "height": 34
        },
        "outputId": "395d8213-cec5-4d96-d026-516cd19f9419"
      },
      "source": [
        "mnist.target"
      ],
      "execution_count": null,
      "outputs": [
        {
          "output_type": "execute_result",
          "data": {
            "text/plain": [
              "array(['5', '0', '4', ..., '4', '5', '6'], dtype=object)"
            ]
          },
          "metadata": {
            "tags": []
          },
          "execution_count": 6
        }
      ]
    },
    {
      "cell_type": "code",
      "metadata": {
        "id": "5MG8S0avcHzn"
      },
      "source": [
        "#target is of object data type(string) so we need to typecast\n",
        "mnist.target = [int (i) for i in mnist.target]"
      ],
      "execution_count": null,
      "outputs": []
    },
    {
      "cell_type": "code",
      "metadata": {
        "id": "wUOjIybrcbbZ",
        "colab": {
          "base_uri": "https://localhost:8080/",
          "height": 34
        },
        "outputId": "c11f314b-4dc8-464a-b6bd-937841a5c7e8"
      },
      "source": [
        "mnist.target[0:10]"
      ],
      "execution_count": null,
      "outputs": [
        {
          "output_type": "execute_result",
          "data": {
            "text/plain": [
              "[5, 0, 4, 1, 9, 2, 1, 3, 1, 4]"
            ]
          },
          "metadata": {
            "tags": []
          },
          "execution_count": 8
        }
      ]
    },
    {
      "cell_type": "code",
      "metadata": {
        "id": "TeIgpI1ncd1z"
      },
      "source": [
        "np.reshape(mnist.data[1], (28,28))"
      ],
      "execution_count": null,
      "outputs": []
    },
    {
      "cell_type": "code",
      "metadata": {
        "id": "ftAYamjFdOUs",
        "colab": {
          "base_uri": "https://localhost:8080/",
          "height": 281
        },
        "outputId": "18d1e1f0-b991-4873-dcb7-25fb57436ad0"
      },
      "source": [
        "#total no. of pixels =28*28 =784\n",
        "plt.imshow(np.reshape(mnist.data[7], (28,28)),cmap='gray')\n",
        "plt.title(\"Label %i\" %mnist.target[7])\n",
        "plt.show()\n",
        "\n"
      ],
      "execution_count": null,
      "outputs": [
        {
          "output_type": "display_data",
          "data": {
            "image/png": "[encoded data removed]",
            "text/plain": [
              "<Figure size 432x288 with 1 Axes>"
            ]
          },
          "metadata": {
            "tags": [],
            "needs_background": "light"
          }
        }
      ]
    },
    {
      "cell_type": "markdown",
      "metadata": {
        "id": "RRtgnjbheZGJ"
      },
      "source": [
        "# **Cross Validation**\n",
        "Split Data Into Train and Test"
      ]
    },
    {
      "cell_type": "code",
      "metadata": {
        "id": "4dcABfwqdd1E"
      },
      "source": [
        "X = mnist.data\n",
        "Y = mnist.target"
      ],
      "execution_count": null,
      "outputs": []
    },
    {
      "cell_type": "code",
      "metadata": {
        "id": "vXkV86zWfYwj"
      },
      "source": [
        "X =X.astype('float32')/255    #to bring X into range"
      ],
      "execution_count": null,
      "outputs": []
    },
    {
      "cell_type": "code",
      "metadata": {
        "id": "lgap8vweexeQ"
      },
      "source": [
        "from sklearn.model_selection import train_test_split\n",
        "X_train, X_test, Y_train, Y_test = train_test_split(X, Y, test_size = 0.15, random_state = 3)"
      ],
      "execution_count": null,
      "outputs": []
    },
    {
      "cell_type": "code",
      "metadata": {
        "id": "xtpfaFPVf3nY",
        "colab": {
          "base_uri": "https://localhost:8080/",
          "height": 34
        },
        "outputId": "5e867e92-310a-42b0-da6e-1c15a3aeb1ba"
      },
      "source": [
        "X_train.shape"
      ],
      "execution_count": null,
      "outputs": [
        {
          "output_type": "execute_result",
          "data": {
            "text/plain": [
              "(59500, 784)"
            ]
          },
          "metadata": {
            "tags": []
          },
          "execution_count": 14
        }
      ]
    },
    {
      "cell_type": "code",
      "metadata": {
        "id": "ruXy1oG7f-GH",
        "colab": {
          "base_uri": "https://localhost:8080/",
          "height": 34
        },
        "outputId": "cd83c480-fbde-442d-b465-50012a40e5ec"
      },
      "source": [
        "X_test.shape"
      ],
      "execution_count": null,
      "outputs": [
        {
          "output_type": "execute_result",
          "data": {
            "text/plain": [
              "(10500, 784)"
            ]
          },
          "metadata": {
            "tags": []
          },
          "execution_count": 15
        }
      ]
    },
    {
      "cell_type": "markdown",
      "metadata": {
        "id": "CAFm-GNogBQM"
      },
      "source": [
        "# **Logistic Regression**"
      ]
    },
    {
      "cell_type": "code",
      "metadata": {
        "id": "xYTn24r5gFcO"
      },
      "source": [
        "from sklearn.linear_model import LogisticRegression\n",
        "#Default :Binary Class Classification\n",
        "#But our target is Multiclass\n",
        "#C = Higher the better (decision boundary will be more strict)                                                #https://scikit-learn.org/stable/modules/generated/sklearn.linear_model.LogisticRegression.html(link for setting)\n",
        "#1e5 means 10 to the power 5 (10^5\n",
        "# max_iter = num of iterations iterations to converge error\n",
        "logit_model =LogisticRegression(solver='lbfgs', multi_class = 'multinomial', max_iter= 1e3, C = 1e2)"
      ],
      "execution_count": null,
      "outputs": []
    },
    {
      "cell_type": "code",
      "metadata": {
        "id": "aW6NYKrqgTws",
        "colab": {
          "base_uri": "https://localhost:8080/",
          "height": 235
        },
        "outputId": "aeee405d-9b9c-47e2-8066-e52ed01f46d7"
      },
      "source": [
        "logit_model.fit(X_train, Y_train)"
      ],
      "execution_count": null,
      "outputs": [
        {
          "output_type": "stream",
          "text": [
            "/usr/local/lib/python3.6/dist-packages/sklearn/linear_model/_logistic.py:940: ConvergenceWarning: lbfgs failed to converge (status=1):\n",
            "STOP: TOTAL NO. of ITERATIONS REACHED LIMIT.\n",
            "\n",
            "Increase the number of iterations (max_iter) or scale the data as shown in:\n",
            "    https://scikit-learn.org/stable/modules/preprocessing.html\n",
            "Please also refer to the documentation for alternative solver options:\n",
            "    https://scikit-learn.org/stable/modules/linear_model.html#logistic-regression\n",
            "  extra_warning_msg=_LOGISTIC_SOLVER_CONVERGENCE_MSG)\n"
          ],
          "name": "stderr"
        },
        {
          "output_type": "execute_result",
          "data": {
            "text/plain": [
              "LogisticRegression(C=100.0, class_weight=None, dual=False, fit_intercept=True,\n",
              "                   intercept_scaling=1, l1_ratio=None, max_iter=1000.0,\n",
              "                   multi_class='multinomial', n_jobs=None, penalty='l2',\n",
              "                   random_state=None, solver='lbfgs', tol=0.0001, verbose=0,\n",
              "                   warm_start=False)"
            ]
          },
          "metadata": {
            "tags": []
          },
          "execution_count": 17
        }
      ]
    },
    {
      "cell_type": "code",
      "metadata": {
        "id": "dO5GF_3ojADX",
        "colab": {
          "base_uri": "https://localhost:8080/",
          "height": 34
        },
        "outputId": "7f1ed1d6-1a60-415b-b03b-8be40ead7081"
      },
      "source": [
        "logit_model.score(X_test,Y_test)"
      ],
      "execution_count": null,
      "outputs": [
        {
          "output_type": "execute_result",
          "data": {
            "text/plain": [
              "0.9195238095238095"
            ]
          },
          "metadata": {
            "tags": []
          },
          "execution_count": 18
        }
      ]
    },
    {
      "cell_type": "code",
      "metadata": {
        "id": "HLa5X5cAjbnf"
      },
      "source": [],
      "execution_count": null,
      "outputs": []
    },
    {
      "cell_type": "markdown",
      "metadata": {
        "id": "4wEJRAP3GzEc"
      },
      "source": [
        "# **Prediction**"
      ]
    },
    {
      "cell_type": "code",
      "metadata": {
        "id": "-iVtwHomG2Yg"
      },
      "source": [
        "yhat = logit_model.predict(X_test)"
      ],
      "execution_count": null,
      "outputs": []
    },
    {
      "cell_type": "code",
      "metadata": {
        "id": "XYowwK79G2_3",
        "colab": {
          "base_uri": "https://localhost:8080/",
          "height": 34
        },
        "outputId": "c83c8779-224e-4ceb-ff92-44c0997e1b03"
      },
      "source": [
        "yhat"
      ],
      "execution_count": null,
      "outputs": [
        {
          "output_type": "execute_result",
          "data": {
            "text/plain": [
              "array([3, 5, 3, ..., 7, 5, 9])"
            ]
          },
          "metadata": {
            "tags": []
          },
          "execution_count": 20
        }
      ]
    },
    {
      "cell_type": "markdown",
      "metadata": {
        "id": "vEMyHzHlcRpB"
      },
      "source": [
        "# **Classification Report**\n",
        "Confusion Matrix"
      ]
    },
    {
      "cell_type": "code",
      "metadata": {
        "id": "2RZ_AkrVcb-6"
      },
      "source": [
        "from sklearn.metrics import classification_report , confusion_matrix"
      ],
      "execution_count": null,
      "outputs": []
    },
    {
      "cell_type": "code",
      "metadata": {
        "id": "uTosGXeLckNX"
      },
      "source": [
        "prediction = logit_model.predict(X_test)"
      ],
      "execution_count": null,
      "outputs": []
    },
    {
      "cell_type": "code",
      "metadata": {
        "id": "OioHOTegcsKJ",
        "colab": {
          "base_uri": "https://localhost:8080/",
          "height": 185
        },
        "outputId": "00b28307-8771-404f-82fd-2d4f286d4183"
      },
      "source": [
        "confusion_matrix(Y_test,prediction)"
      ],
      "execution_count": null,
      "outputs": [
        {
          "output_type": "execute_result",
          "data": {
            "text/plain": [
              "array([[1017,    0,    5,    6,    2,   11,    9,    3,    0,    3],\n",
              "       [   0, 1157,   11,    2,    0,    7,    2,    3,    8,    1],\n",
              "       [   8,   11,  942,   13,    8,    2,   14,   10,   32,    2],\n",
              "       [   6,    4,   22,  969,    4,   32,    3,   11,   15,   11],\n",
              "       [   2,    6,    6,    2,  945,    3,    7,    8,   12,   24],\n",
              "       [  10,    1,    8,   29,    5,  839,   17,    7,   30,   13],\n",
              "       [  11,    4,   10,    1,   13,   22,  945,    4,    5,    0],\n",
              "       [   2,    7,    9,    5,   16,    3,    0, 1012,    1,   31],\n",
              "       [   8,   21,   15,   29,    5,   27,   11,    6,  914,   18],\n",
              "       [   3,    5,    1,   15,   25,    3,    0,   31,    7,  915]])"
            ]
          },
          "metadata": {
            "tags": []
          },
          "execution_count": 23
        }
      ]
    },
    {
      "cell_type": "code",
      "metadata": {
        "id": "2UqbhDgNcxFK",
        "colab": {
          "base_uri": "https://localhost:8080/",
          "height": 609
        },
        "outputId": "6ac48f69-8520-479a-c0ec-d547bed52c35"
      },
      "source": [
        "plt.figure(figsize=(15,10))\n",
        "sns.heatmap(confusion_matrix(Y_test,prediction),annot=True,fmt='0.0f')               #->false negative    |false positive\n",
        "                                                                                                          v"
      ],
      "execution_count": null,
      "outputs": [
        {
          "output_type": "execute_result",
          "data": {
            "text/plain": [
              "<matplotlib.axes._subplots.AxesSubplot at 0x7faed036e390>"
            ]
          },
          "metadata": {
            "tags": []
          },
          "execution_count": 26
        },
        {
          "output_type": "display_data",
          "data": {
            "image/png": "[encoded data removed]",
            "text/plain": [
              "<Figure size 1080x720 with 2 Axes>"
            ]
          },
          "metadata": {
            "tags": [],
            "needs_background": "light"
          }
        }
      ]
    },
    {
      "cell_type": "code",
      "metadata": {
        "id": "zPrfXfS1c2Lo",
        "colab": {
          "base_uri": "https://localhost:8080/",
          "height": 302
        },
        "outputId": "66ceedb0-8584-4d31-f7d8-ffb95bfe451f"
      },
      "source": [
        "print(classification_report(Y_test,prediction))"
      ],
      "execution_count": null,
      "outputs": [
        {
          "output_type": "stream",
          "text": [
            "              precision    recall  f1-score   support\n",
            "\n",
            "           0       0.95      0.96      0.96      1056\n",
            "           1       0.95      0.97      0.96      1191\n",
            "           2       0.92      0.90      0.91      1042\n",
            "           3       0.90      0.90      0.90      1077\n",
            "           4       0.92      0.93      0.93      1015\n",
            "           5       0.88      0.87      0.88       959\n",
            "           6       0.94      0.93      0.93      1015\n",
            "           7       0.92      0.93      0.93      1086\n",
            "           8       0.89      0.87      0.88      1054\n",
            "           9       0.90      0.91      0.90      1005\n",
            "\n",
            "    accuracy                           0.92     10500\n",
            "   macro avg       0.92      0.92      0.92     10500\n",
            "weighted avg       0.92      0.92      0.92     10500\n",
            "\n"
          ],
          "name": "stdout"
        }
      ]
    },
    {
      "cell_type": "markdown",
      "metadata": {
        "id": "bXUx_FkzjCfc"
      },
      "source": [
        "# **New Prediction**"
      ]
    },
    {
      "cell_type": "code",
      "metadata": {
        "id": "_JLHfotzjH2y"
      },
      "source": [
        "import cv2\n",
        "img = cv2.imread('/content/digit 7.png',0)           #0 stands for gray scale img and not RGB"
      ],
      "execution_count": null,
      "outputs": []
    },
    {
      "cell_type": "code",
      "metadata": {
        "id": "ihB3GIHuk4yV",
        "colab": {
          "base_uri": "https://localhost:8080/",
          "height": 34
        },
        "outputId": "3f82bc90-9beb-4c52-ef17-0730ad3785ae"
      },
      "source": [
        "img.shape"
      ],
      "execution_count": null,
      "outputs": [
        {
          "output_type": "execute_result",
          "data": {
            "text/plain": [
              "(648, 1152)"
            ]
          },
          "metadata": {
            "tags": []
          },
          "execution_count": 40
        }
      ]
    },
    {
      "cell_type": "code",
      "metadata": {
        "id": "CTxzY4PTk7st"
      },
      "source": [
        "img = cv2.resize(img , (28,28))"
      ],
      "execution_count": null,
      "outputs": []
    },
    {
      "cell_type": "code",
      "metadata": {
        "id": "No6nu2tZlK1N"
      },
      "source": [
        "#bitwise will print no. in white and background will be black\n",
        "img = cv2.bitwise_not(img)"
      ],
      "execution_count": null,
      "outputs": []
    },
    {
      "cell_type": "code",
      "metadata": {
        "id": "oXW0Z1p6mQ9e",
        "colab": {
          "base_uri": "https://localhost:8080/",
          "height": 34
        },
        "outputId": "22ccef76-ab25-45a1-8f8b-1e45ff6a1ce9"
      },
      "source": [
        "img.shape"
      ],
      "execution_count": null,
      "outputs": [
        {
          "output_type": "execute_result",
          "data": {
            "text/plain": [
              "(28, 28)"
            ]
          },
          "metadata": {
            "tags": []
          },
          "execution_count": 33
        }
      ]
    },
    {
      "cell_type": "code",
      "metadata": {
        "id": "YpATqG5pmR4Y"
      },
      "source": [
        "img_data = img.reshape(1,784)"
      ],
      "execution_count": null,
      "outputs": []
    },
    {
      "cell_type": "code",
      "metadata": {
        "id": "6kEORP33mfB3",
        "colab": {
          "base_uri": "https://localhost:8080/",
          "height": 34
        },
        "outputId": "bdc82888-4f10-4095-a53c-bbf8e5efc588"
      },
      "source": [
        "logit_model.predict(img_data)"
      ],
      "execution_count": null,
      "outputs": [
        {
          "output_type": "execute_result",
          "data": {
            "text/plain": [
              "array([8])"
            ]
          },
          "metadata": {
            "tags": []
          },
          "execution_count": 35
        }
      ]
    },
    {
      "cell_type": "code",
      "metadata": {
        "id": "OPq6h6RCm2os",
        "colab": {
          "base_uri": "https://localhost:8080/",
          "height": 281
        },
        "outputId": "11e3581f-a233-4cda-89f8-89e63d40b445"
      },
      "source": [
        "yhat = logit_model.predict(img_data)\n",
        "plt.imshow(np.reshape(img, (28, 28)), cmap = 'gray')\n",
        "plt.title(\"Label: %i\" %yhat)\n",
        "plt.show()\n"
      ],
      "execution_count": null,
      "outputs": [
        {
          "output_type": "display_data",
          "data": {
            "image/png": "[encoded data removed]",
            "text/plain": [
              "<Figure size 432x288 with 1 Axes>"
            ]
          },
          "metadata": {
            "tags": [],
            "needs_background": "light"
          }
        }
      ]
    },
    {
      "cell_type": "code",
      "metadata": {
        "id": "tJIK_G4Om5rH"
      },
      "source": [],
      "execution_count": null,
      "outputs": []
    }
  ]
}