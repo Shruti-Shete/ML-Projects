{
  "nbformat": 4,
  "nbformat_minor": 0,
  "metadata": {
    "colab": {
      "provenance": []
    },
    "kernelspec": {
      "name": "python3",
      "display_name": "Python 3"
    },
    "accelerator": "GPU"
  },
  "cells": [
    {
      "cell_type": "code",
      "metadata": {
        "id": "Q9GE7zmnQg7T"
      },
      "source": [
        "import pandas as pd\n",
        "import numpy as np\n",
        "import matplotlib.pyplot as plt\n",
        "import seaborn as sns\n"
      ],
      "execution_count": null,
      "outputs": []
    },
    {
      "cell_type": "code",
      "metadata": {
        "id": "FacbHcFijpcB"
      },
      "source": [],
      "execution_count": null,
      "outputs": []
    },
    {
      "cell_type": "markdown",
      "metadata": {
        "id": "apEUMLVkju-s"
      },
      "source": [
        "# **FASHION MNIST CNN ANALYSIS Label Description**\n",
        "\n",
        "\n",
        "*   0 T-shirt/top\n",
        "\n",
        "\n",
        "\n",
        "\n",
        "\n",
        "\n",
        "\n",
        "\n",
        "\n",
        "* 1 Trouser  \n",
        "*   2 Pullover\n",
        "\n",
        "*   3 Dress\n",
        "*   4 Coat\n",
        "\n",
        "\n",
        "*   5 Sandal\n",
        "\n",
        "\n",
        "*   6 Shirt\n",
        "*  7 Sneaker\n",
        "\n",
        "*  8 Bag\n",
        "*   9 Ankle boot\n",
        "\n",
        "\n",
        "\n",
        "\n",
        "\n",
        "\n",
        "\n",
        "\n",
        "\n"
      ]
    },
    {
      "cell_type": "code",
      "metadata": {
        "id": "mcSOJNM3j3zv"
      },
      "source": [
        "from keras.datasets import fashion_mnist"
      ],
      "execution_count": null,
      "outputs": []
    },
    {
      "cell_type": "code",
      "metadata": {
        "id": "zVzn2EMXj8m5"
      },
      "source": [
        "# Load the dataset fashion-mnist\n",
        "(X_train, Y_train), (X_test, Y_test) = fashion_mnist.load_data()"
      ],
      "execution_count": null,
      "outputs": []
    },
    {
      "cell_type": "code",
      "metadata": {
        "id": "CIp1m9KykfTY",
        "outputId": "12a9ad1e-1a36-488f-8ceb-336db9ca3d40",
        "colab": {
          "base_uri": "https://localhost:8080/",
          "height": 34
        }
      },
      "source": [
        "#60000 : total no of images\n",
        "#28*28 :shape of individual image\n",
        "X_train.shape"
      ],
      "execution_count": null,
      "outputs": [
        {
          "output_type": "execute_result",
          "data": {
            "text/plain": [
              "(60000, 28, 28)"
            ]
          },
          "metadata": {
            "tags": []
          },
          "execution_count": 64
        }
      ]
    },
    {
      "cell_type": "code",
      "metadata": {
        "id": "ekVE2iOblG_t",
        "outputId": "5f85e75c-0904-4846-e75d-72abd42de27f",
        "colab": {
          "base_uri": "https://localhost:8080/",
          "height": 34
        }
      },
      "source": [
        "X_test.shape"
      ],
      "execution_count": null,
      "outputs": [
        {
          "output_type": "execute_result",
          "data": {
            "text/plain": [
              "(10000, 28, 28)"
            ]
          },
          "metadata": {
            "tags": []
          },
          "execution_count": 65
        }
      ]
    },
    {
      "cell_type": "code",
      "metadata": {
        "id": "D0OJAxyylI6G"
      },
      "source": [
        "X_train[0]"
      ],
      "execution_count": null,
      "outputs": []
    },
    {
      "cell_type": "code",
      "metadata": {
        "id": "ddZP3bOclfTM",
        "outputId": "bdcb9db8-3aa0-447f-e195-01431c753111",
        "colab": {
          "base_uri": "https://localhost:8080/",
          "height": 281
        }
      },
      "source": [
        "plt.imshow(np.reshape(X_train[8], (28,28)), cmap = 'gray')\n",
        "plt.title(\"Label %i\" %Y_train[8])\n",
        "plt.show()\n"
      ],
      "execution_count": null,
      "outputs": [
        {
          "output_type": "display_data",
          "data": {
            "image/png": "[encoded data removed]",
            "text/plain": [
              "<Figure size 432x288 with 1 Axes>"
            ]
          },
          "metadata": {
            "tags": [],
            "needs_background": "light"
          }
        }
      ]
    },
    {
      "cell_type": "code",
      "metadata": {
        "id": "XfHPjLImmMi_",
        "outputId": "a9e594b2-b292-4334-f4f7-cd451d1d730d",
        "colab": {
          "base_uri": "https://localhost:8080/",
          "height": 281
        }
      },
      "source": [
        "plt.imshow(np.reshape(X_train[5999], (28,28)), cmap = 'gray')\n",
        "plt.title(\"Label %i\" %Y_train[5999])\n",
        "plt.show()"
      ],
      "execution_count": null,
      "outputs": [
        {
          "output_type": "display_data",
          "data": {
            "image/png": "[encoded data removed]",
            "text/plain": [
              "<Figure size 432x288 with 1 Axes>"
            ]
          },
          "metadata": {
            "tags": [],
            "needs_background": "light"
          }
        }
      ]
    },
    {
      "cell_type": "code",
      "metadata": {
        "id": "5WQi55ZMmXJS"
      },
      "source": [
        "# Image pixel normalization\n",
        "X_train = X_train.astype('float32') / 255\n",
        "X_test = X_test.astype('float32') / 255"
      ],
      "execution_count": null,
      "outputs": []
    },
    {
      "cell_type": "code",
      "metadata": {
        "id": "rQ85tuAlnsEE"
      },
      "source": [
        "# changing range from 0-255 to 0-1\n",
        "X_train[0]\n"
      ],
      "execution_count": null,
      "outputs": []
    },
    {
      "cell_type": "code",
      "metadata": {
        "id": "7Vhm42NbnvIG",
        "outputId": "8cafe87f-d0ce-45d5-c23b-63fef209ba8a",
        "colab": {
          "base_uri": "https://localhost:8080/",
          "height": 281
        }
      },
      "source": [
        "plt.imshow(np.reshape(X_train[1], (28,28)), cmap = 'gray')\n",
        "plt.title(\"Label %i\" %Y_train[1])\n",
        "plt.show()"
      ],
      "execution_count": null,
      "outputs": [
        {
          "output_type": "display_data",
          "data": {
            "image/png": "[encoded data removed]",
            "text/plain": [
              "<Figure size 432x288 with 1 Axes>"
            ]
          },
          "metadata": {
            "tags": [],
            "needs_background": "light"
          }
        }
      ]
    },
    {
      "cell_type": "code",
      "metadata": {
        "id": "cDIZWf4hn2ew"
      },
      "source": [
        "# Image pixel normalization\n",
        "X_train = X_train.astype('float32') / 255\n",
        "X_test = X_test.astype('float32') / 255\n"
      ],
      "execution_count": null,
      "outputs": []
    },
    {
      "cell_type": "code",
      "metadata": {
        "id": "nVUtv_GPpiMy",
        "outputId": "75c8c379-309e-4b83-bac2-cde9bafff066",
        "colab": {
          "base_uri": "https://localhost:8080/",
          "height": 1000
        }
      },
      "source": [
        "# changing range from 0-255 to 0-1\n",
        "X_train[0]"
      ],
      "execution_count": null,
      "outputs": [
        {
          "output_type": "execute_result",
          "data": {
            "text/plain": [
              "array([[0.0000000e+00, 0.0000000e+00, 0.0000000e+00, 0.0000000e+00,\n",
              "        0.0000000e+00, 0.0000000e+00, 0.0000000e+00, 0.0000000e+00,\n",
              "        0.0000000e+00, 0.0000000e+00, 0.0000000e+00, 0.0000000e+00,\n",
              "        0.0000000e+00, 0.0000000e+00, 0.0000000e+00, 0.0000000e+00,\n",
              "        0.0000000e+00, 0.0000000e+00, 0.0000000e+00, 0.0000000e+00,\n",
              "        0.0000000e+00, 0.0000000e+00, 0.0000000e+00, 0.0000000e+00,\n",
              "        0.0000000e+00, 0.0000000e+00, 0.0000000e+00, 0.0000000e+00],\n",
              "       [0.0000000e+00, 0.0000000e+00, 0.0000000e+00, 0.0000000e+00,\n",
              "        0.0000000e+00, 0.0000000e+00, 0.0000000e+00, 0.0000000e+00,\n",
              "        0.0000000e+00, 0.0000000e+00, 0.0000000e+00, 0.0000000e+00,\n",
              "        0.0000000e+00, 0.0000000e+00, 0.0000000e+00, 0.0000000e+00,\n",
              "        0.0000000e+00, 0.0000000e+00, 0.0000000e+00, 0.0000000e+00,\n",
              "        0.0000000e+00, 0.0000000e+00, 0.0000000e+00, 0.0000000e+00,\n",
              "        0.0000000e+00, 0.0000000e+00, 0.0000000e+00, 0.0000000e+00],\n",
              "       [0.0000000e+00, 0.0000000e+00, 0.0000000e+00, 0.0000000e+00,\n",
              "        0.0000000e+00, 0.0000000e+00, 0.0000000e+00, 0.0000000e+00,\n",
              "        0.0000000e+00, 0.0000000e+00, 0.0000000e+00, 0.0000000e+00,\n",
              "        0.0000000e+00, 0.0000000e+00, 0.0000000e+00, 0.0000000e+00,\n",
              "        0.0000000e+00, 0.0000000e+00, 0.0000000e+00, 0.0000000e+00,\n",
              "        0.0000000e+00, 0.0000000e+00, 0.0000000e+00, 0.0000000e+00,\n",
              "        0.0000000e+00, 0.0000000e+00, 0.0000000e+00, 0.0000000e+00],\n",
              "       [0.0000000e+00, 0.0000000e+00, 0.0000000e+00, 0.0000000e+00,\n",
              "        0.0000000e+00, 0.0000000e+00, 0.0000000e+00, 0.0000000e+00,\n",
              "        0.0000000e+00, 0.0000000e+00, 0.0000000e+00, 0.0000000e+00,\n",
              "        1.5378702e-05, 0.0000000e+00, 0.0000000e+00, 1.9992310e-04,\n",
              "        1.1226452e-03, 0.0000000e+00, 0.0000000e+00, 1.5378702e-05,\n",
              "        6.1514809e-05, 0.0000000e+00, 0.0000000e+00, 0.0000000e+00,\n",
              "        0.0000000e+00, 1.5378702e-05, 1.5378702e-05, 0.0000000e+00],\n",
              "       [0.0000000e+00, 0.0000000e+00, 0.0000000e+00, 0.0000000e+00,\n",
              "        0.0000000e+00, 0.0000000e+00, 0.0000000e+00, 0.0000000e+00,\n",
              "        0.0000000e+00, 0.0000000e+00, 0.0000000e+00, 0.0000000e+00,\n",
              "        4.6136101e-05, 0.0000000e+00, 5.5363326e-04, 2.0915035e-03,\n",
              "        1.9530950e-03, 9.5347944e-04, 8.3044986e-04, 0.0000000e+00,\n",
              "        0.0000000e+00, 0.0000000e+00, 1.5378702e-05, 4.6136101e-05,\n",
              "        6.1514809e-05, 0.0000000e+00, 0.0000000e+00, 4.6136101e-05],\n",
              "       [0.0000000e+00, 0.0000000e+00, 0.0000000e+00, 0.0000000e+00,\n",
              "        0.0000000e+00, 0.0000000e+00, 0.0000000e+00, 0.0000000e+00,\n",
              "        0.0000000e+00, 0.0000000e+00, 0.0000000e+00, 0.0000000e+00,\n",
              "        9.2272203e-05, 0.0000000e+00, 1.5686274e-03, 3.1372549e-03,\n",
              "        2.7066513e-03, 2.0607461e-03, 2.2145330e-03, 1.8915802e-03,\n",
              "        3.5371011e-04, 0.0000000e+00, 0.0000000e+00, 0.0000000e+00,\n",
              "        0.0000000e+00, 1.8454441e-04, 1.5378701e-04, 0.0000000e+00],\n",
              "       [0.0000000e+00, 0.0000000e+00, 0.0000000e+00, 0.0000000e+00,\n",
              "        0.0000000e+00, 0.0000000e+00, 0.0000000e+00, 0.0000000e+00,\n",
              "        0.0000000e+00, 0.0000000e+00, 0.0000000e+00, 0.0000000e+00,\n",
              "        0.0000000e+00, 0.0000000e+00, 2.3836987e-03, 3.6293734e-03,\n",
              "        3.1833909e-03, 2.7374087e-03, 1.6455210e-03, 2.3990774e-03,\n",
              "        2.4759709e-03, 1.6762784e-03, 9.8423695e-04, 3.5371011e-04,\n",
              "        1.1841600e-03, 1.9992313e-03, 1.1072665e-03, 2.3068051e-04],\n",
              "       [0.0000000e+00, 0.0000000e+00, 0.0000000e+00, 0.0000000e+00,\n",
              "        0.0000000e+00, 0.0000000e+00, 0.0000000e+00, 0.0000000e+00,\n",
              "        0.0000000e+00, 0.0000000e+00, 0.0000000e+00, 1.5378702e-05,\n",
              "        0.0000000e+00, 1.0611304e-03, 3.1833909e-03, 3.4294503e-03,\n",
              "        3.3525568e-03, 3.3217994e-03, 3.3217994e-03, 2.5067283e-03,\n",
              "        1.9530950e-03, 1.8608228e-03, 1.8762015e-03, 2.2452904e-03,\n",
              "        2.1683970e-03, 1.3533257e-03, 2.6451366e-03, 1.0149943e-03],\n",
              "       [0.0000000e+00, 0.0000000e+00, 0.0000000e+00, 0.0000000e+00,\n",
              "        0.0000000e+00, 0.0000000e+00, 0.0000000e+00, 0.0000000e+00,\n",
              "        0.0000000e+00, 1.5378702e-05, 1.5378702e-05, 1.5378702e-05,\n",
              "        0.0000000e+00, 3.0757401e-03, 3.5678586e-03, 3.5678586e-03,\n",
              "        3.5832373e-03, 3.5217225e-03, 3.4294503e-03, 3.4294503e-03,\n",
              "        3.3064208e-03, 3.2756634e-03, 2.5221070e-03, 1.9530950e-03,\n",
              "        1.8915802e-03, 3.0142253e-03, 3.5217225e-03, 0.0000000e+00],\n",
              "       [0.0000000e+00, 0.0000000e+00, 0.0000000e+00, 0.0000000e+00,\n",
              "        0.0000000e+00, 0.0000000e+00, 0.0000000e+00, 0.0000000e+00,\n",
              "        0.0000000e+00, 0.0000000e+00, 0.0000000e+00, 0.0000000e+00,\n",
              "        0.0000000e+00, 2.8143022e-03, 3.4602077e-03, 3.3217994e-03,\n",
              "        3.4294503e-03, 3.5063438e-03, 3.6139947e-03, 3.4909651e-03,\n",
              "        3.4448290e-03, 3.4140716e-03, 3.4448290e-03, 3.3986929e-03,\n",
              "        3.4294503e-03, 3.7677817e-03, 2.6605153e-03, 0.0000000e+00],\n",
              "       [0.0000000e+00, 0.0000000e+00, 0.0000000e+00, 0.0000000e+00,\n",
              "        0.0000000e+00, 0.0000000e+00, 0.0000000e+00, 0.0000000e+00,\n",
              "        0.0000000e+00, 0.0000000e+00, 0.0000000e+00, 0.0000000e+00,\n",
              "        0.0000000e+00, 2.9680892e-03, 3.5063438e-03, 3.3525568e-03,\n",
              "        3.2756634e-03, 3.0449827e-03, 2.7681661e-03, 3.2602844e-03,\n",
              "        3.2295270e-03, 3.2449057e-03, 3.2756634e-03, 3.4294503e-03,\n",
              "        3.3833142e-03, 3.7370243e-03, 3.1064975e-03, 0.0000000e+00],\n",
              "       [0.0000000e+00, 0.0000000e+00, 0.0000000e+00, 0.0000000e+00,\n",
              "        0.0000000e+00, 0.0000000e+00, 0.0000000e+00, 0.0000000e+00,\n",
              "        0.0000000e+00, 1.5378702e-05, 4.6136101e-05, 0.0000000e+00,\n",
              "        1.8454441e-04, 3.3679355e-03, 3.3833142e-03, 3.2602844e-03,\n",
              "        3.3525568e-03, 2.9527105e-03, 2.5990005e-03, 3.4909651e-03,\n",
              "        3.1987696e-03, 3.3525568e-03, 3.4448290e-03, 3.2602844e-03,\n",
              "        3.4755864e-03, 3.0296040e-03, 3.2141483e-03, 7.9969241e-04],\n",
              "       [0.0000000e+00, 0.0000000e+00, 0.0000000e+00, 0.0000000e+00,\n",
              "        0.0000000e+00, 0.0000000e+00, 0.0000000e+00, 0.0000000e+00,\n",
              "        0.0000000e+00, 0.0000000e+00, 9.2272203e-05, 0.0000000e+00,\n",
              "        1.5224913e-03, 3.7524030e-03, 3.4140716e-03, 3.3833142e-03,\n",
              "        3.3525568e-03, 3.1218762e-03, 3.0449827e-03, 3.3986929e-03,\n",
              "        3.3064208e-03, 3.2756634e-03, 3.4140716e-03, 3.3833142e-03,\n",
              "        3.7677817e-03, 1.8300654e-03, 2.5682431e-03, 8.6120726e-04],\n",
              "       [0.0000000e+00, 0.0000000e+00, 0.0000000e+00, 0.0000000e+00,\n",
              "        0.0000000e+00, 0.0000000e+00, 0.0000000e+00, 0.0000000e+00,\n",
              "        0.0000000e+00, 6.1514809e-05, 0.0000000e+00, 0.0000000e+00,\n",
              "        8.4582856e-04, 3.6293734e-03, 3.5063438e-03, 3.5371012e-03,\n",
              "        3.5063438e-03, 3.6908882e-03, 3.5678586e-03, 3.2756634e-03,\n",
              "        3.3525568e-03, 3.4294503e-03, 3.5986160e-03, 3.3371781e-03,\n",
              "        3.3371781e-03, 3.2141483e-03, 1.4148405e-03, 0.0000000e+00],\n",
              "       [0.0000000e+00, 0.0000000e+00, 1.5378702e-05, 6.1514809e-05,\n",
              "        9.2272203e-05, 1.0765091e-04, 3.0757405e-05, 0.0000000e+00,\n",
              "        0.0000000e+00, 0.0000000e+00, 0.0000000e+00, 0.0000000e+00,\n",
              "        3.6447521e-03, 3.4755864e-03, 3.3371781e-03, 3.4294503e-03,\n",
              "        3.4140716e-03, 3.3679355e-03, 3.4140716e-03, 3.3986929e-03,\n",
              "        3.3217994e-03, 3.4294503e-03, 3.5217225e-03, 3.3064208e-03,\n",
              "        3.3525568e-03, 3.9215689e-03, 1.1841600e-03, 0.0000000e+00],\n",
              "       [0.0000000e+00, 4.6136101e-05, 0.0000000e+00, 0.0000000e+00,\n",
              "        0.0000000e+00, 0.0000000e+00, 0.0000000e+00, 0.0000000e+00,\n",
              "        0.0000000e+00, 9.5347944e-04, 2.2299117e-03, 3.1372549e-03,\n",
              "        3.5063438e-03, 3.1833909e-03, 3.2756634e-03, 3.3986929e-03,\n",
              "        3.3525568e-03, 3.1987696e-03, 3.2449057e-03, 3.3525568e-03,\n",
              "        3.4448290e-03, 3.4294503e-03, 3.3679355e-03, 3.3064208e-03,\n",
              "        3.4448290e-03, 3.7524030e-03, 2.4452135e-03, 0.0000000e+00],\n",
              "       [0.0000000e+00, 0.0000000e+00, 0.0000000e+00, 0.0000000e+00,\n",
              "        2.7681663e-04, 6.7666284e-04, 1.2610535e-03, 1.6455210e-03,\n",
              "        2.9065744e-03, 3.5063438e-03, 3.3833142e-03, 3.4140716e-03,\n",
              "        3.3371781e-03, 3.4755864e-03, 3.0757401e-03, 3.1526336e-03,\n",
              "        3.2449057e-03, 3.5371012e-03, 3.4448290e-03, 3.5986160e-03,\n",
              "        2.7066513e-03, 2.8911957e-03, 3.8446751e-03, 3.8139177e-03,\n",
              "        3.5832373e-03, 3.6601308e-03, 3.3064208e-03, 0.0000000e+00],\n",
              "       [0.0000000e+00, 8.7658595e-04, 2.8758170e-03, 3.1987696e-03,\n",
              "        3.4448290e-03, 3.3986929e-03, 3.4448290e-03, 3.1987696e-03,\n",
              "        3.1372549e-03, 3.2910421e-03, 3.1987696e-03, 3.2141483e-03,\n",
              "        3.0757401e-03, 2.4452135e-03, 3.7677817e-03, 2.9680892e-03,\n",
              "        3.1680122e-03, 3.4294503e-03, 3.9215689e-03, 3.9215689e-03,\n",
              "        3.3986929e-03, 3.5986160e-03, 3.3986929e-03, 3.2449057e-03,\n",
              "        3.3833142e-03, 3.5678586e-03, 3.7831604e-03, 0.0000000e+00],\n",
              "       [4.6136101e-05, 3.1064975e-03, 3.5063438e-03, 3.4448290e-03,\n",
              "        3.3986929e-03, 3.2449057e-03, 3.2449057e-03, 3.2910421e-03,\n",
              "        3.1526336e-03, 3.1526336e-03, 3.1526336e-03, 3.3833142e-03,\n",
              "        3.6908882e-03, 1.2302961e-03, 2.3068052e-03, 3.9215689e-03,\n",
              "        3.5217225e-03, 3.3986929e-03, 2.8911957e-03, 2.3683200e-03,\n",
              "        2.9373318e-03, 3.2295270e-03, 3.1372549e-03, 3.2141483e-03,\n",
              "        3.4140716e-03, 3.5063438e-03, 3.4602077e-03, 0.0000000e+00],\n",
              "       [1.5071126e-03, 3.5832373e-03, 3.0449827e-03, 3.2295270e-03,\n",
              "        3.4140716e-03, 3.5217225e-03, 3.5217225e-03, 3.5986160e-03,\n",
              "        3.8292964e-03, 3.3833142e-03, 2.9834679e-03, 3.3064208e-03,\n",
              "        3.3371781e-03, 3.7062669e-03, 9.9961564e-04, 1.1226452e-03,\n",
              "        1.6301422e-03, 1.7993080e-03, 2.5836218e-03, 3.3679355e-03,\n",
              "        3.3986929e-03, 3.3064208e-03, 3.3371781e-03, 3.4294503e-03,\n",
              "        3.4294503e-03, 3.4448290e-03, 3.5217225e-03, 4.4598232e-04],\n",
              "       [1.1534026e-03, 3.1372549e-03, 3.2602844e-03, 3.1372549e-03,\n",
              "        2.9680892e-03, 3.1526336e-03, 3.2449057e-03, 3.4602077e-03,\n",
              "        3.3217994e-03, 2.8450596e-03, 3.0296040e-03, 3.1680122e-03,\n",
              "        3.0449827e-03, 3.2756634e-03, 3.6908882e-03, 2.9988466e-03,\n",
              "        3.4909651e-03, 3.7677817e-03, 3.6755095e-03, 3.4294503e-03,\n",
              "        3.3525568e-03, 3.2602844e-03, 3.2141483e-03, 3.4140716e-03,\n",
              "        3.3833142e-03, 3.3986929e-03, 3.5371012e-03, 1.0303730e-03],\n",
              "       [7.3817762e-04, 3.1218762e-03, 2.8143022e-03, 2.9834679e-03,\n",
              "        3.2756634e-03, 3.0296040e-03, 2.8450596e-03, 2.9219531e-03,\n",
              "        2.9834679e-03, 2.9527105e-03, 3.1064975e-03, 3.2910421e-03,\n",
              "        3.3679355e-03, 3.3986929e-03, 3.3833142e-03, 3.6293734e-03,\n",
              "        3.4602077e-03, 3.3217994e-03, 3.0603614e-03, 3.1680122e-03,\n",
              "        2.8604383e-03, 2.7835448e-03, 2.7220300e-03, 2.6451366e-03,\n",
              "        2.7835448e-03, 3.1526336e-03, 3.1680122e-03, 1.7685506e-03],\n",
              "       [0.0000000e+00, 1.8762015e-03, 3.3679355e-03, 2.9680892e-03,\n",
              "        2.7527874e-03, 2.6297579e-03, 2.8143022e-03, 3.0142253e-03,\n",
              "        3.1372549e-03, 3.2295270e-03, 3.2756634e-03, 3.1833909e-03,\n",
              "        3.2449057e-03, 3.2295270e-03, 3.0757401e-03, 3.0142253e-03,\n",
              "        2.9834679e-03, 2.9373318e-03, 2.9988466e-03, 2.9373318e-03,\n",
              "        3.0449827e-03, 2.9527105e-03, 2.7066513e-03, 2.3990774e-03,\n",
              "        2.5682431e-03, 2.7220300e-03, 3.2295270e-03, 1.4148405e-03],\n",
              "       [0.0000000e+00, 0.0000000e+00, 1.1380239e-03, 2.9065744e-03,\n",
              "        3.2602844e-03, 2.9373318e-03, 2.6912726e-03, 2.6451366e-03,\n",
              "        2.6912726e-03, 2.7835448e-03, 2.8450596e-03, 2.8911957e-03,\n",
              "        2.9065744e-03, 2.8911957e-03, 2.9680892e-03, 3.0449827e-03,\n",
              "        3.1372549e-03, 3.2141483e-03, 3.2295270e-03, 3.2295270e-03,\n",
              "        3.2449057e-03, 2.8911957e-03, 2.8911957e-03, 2.9834679e-03,\n",
              "        2.9527105e-03, 3.3217994e-03, 2.6143792e-03, 0.0000000e+00],\n",
              "       [3.0757405e-05, 0.0000000e+00, 0.0000000e+00, 0.0000000e+00,\n",
              "        1.0149943e-03, 3.0757401e-03, 3.4140716e-03, 3.6447521e-03,\n",
              "        3.6755095e-03, 3.7216456e-03, 3.7831604e-03, 3.7370243e-03,\n",
              "        3.7524030e-03, 3.3986929e-03, 3.3833142e-03, 2.9680892e-03,\n",
              "        2.9373318e-03, 2.7527874e-03, 2.7989235e-03, 2.7989235e-03,\n",
              "        2.7835448e-03, 2.7066513e-03, 2.5528644e-03, 2.5836218e-03,\n",
              "        1.5224913e-03, 8.9196465e-04, 0.0000000e+00, 0.0000000e+00],\n",
              "       [0.0000000e+00, 0.0000000e+00, 0.0000000e+00, 0.0000000e+00,\n",
              "        0.0000000e+00, 0.0000000e+00, 0.0000000e+00, 6.1514805e-04,\n",
              "        9.3810074e-04, 6.7666284e-04, 1.1072665e-03, 6.3052675e-04,\n",
              "        5.3825456e-04, 0.0000000e+00, 0.0000000e+00, 0.0000000e+00,\n",
              "        0.0000000e+00, 0.0000000e+00, 0.0000000e+00, 0.0000000e+00,\n",
              "        0.0000000e+00, 0.0000000e+00, 0.0000000e+00, 0.0000000e+00,\n",
              "        0.0000000e+00, 0.0000000e+00, 0.0000000e+00, 0.0000000e+00],\n",
              "       [0.0000000e+00, 0.0000000e+00, 0.0000000e+00, 0.0000000e+00,\n",
              "        0.0000000e+00, 0.0000000e+00, 0.0000000e+00, 0.0000000e+00,\n",
              "        0.0000000e+00, 0.0000000e+00, 0.0000000e+00, 0.0000000e+00,\n",
              "        0.0000000e+00, 0.0000000e+00, 0.0000000e+00, 0.0000000e+00,\n",
              "        0.0000000e+00, 0.0000000e+00, 0.0000000e+00, 0.0000000e+00,\n",
              "        0.0000000e+00, 0.0000000e+00, 0.0000000e+00, 0.0000000e+00,\n",
              "        0.0000000e+00, 0.0000000e+00, 0.0000000e+00, 0.0000000e+00],\n",
              "       [0.0000000e+00, 0.0000000e+00, 0.0000000e+00, 0.0000000e+00,\n",
              "        0.0000000e+00, 0.0000000e+00, 0.0000000e+00, 0.0000000e+00,\n",
              "        0.0000000e+00, 0.0000000e+00, 0.0000000e+00, 0.0000000e+00,\n",
              "        0.0000000e+00, 0.0000000e+00, 0.0000000e+00, 0.0000000e+00,\n",
              "        0.0000000e+00, 0.0000000e+00, 0.0000000e+00, 0.0000000e+00,\n",
              "        0.0000000e+00, 0.0000000e+00, 0.0000000e+00, 0.0000000e+00,\n",
              "        0.0000000e+00, 0.0000000e+00, 0.0000000e+00, 0.0000000e+00]],\n",
              "      dtype=float32)"
            ]
          },
          "metadata": {
            "tags": []
          },
          "execution_count": 73
        }
      ]
    },
    {
      "cell_type": "code",
      "metadata": {
        "id": "Ah3Vb_nxplDC",
        "outputId": "413da187-3b91-4438-b596-e9b409b431ae",
        "colab": {
          "base_uri": "https://localhost:8080/",
          "height": 281
        }
      },
      "source": [
        "plt.imshow(np.reshape(X_train[1], (28,28)), cmap = 'gray')\n",
        "plt.title(\"Label %i\" %Y_train[1])\n",
        "plt.show()"
      ],
      "execution_count": null,
      "outputs": [
        {
          "output_type": "display_data",
          "data": {
            "image/png": "[encoded data removed]",
            "text/plain": [
              "<Figure size 432x288 with 1 Axes>"
            ]
          },
          "metadata": {
            "tags": [],
            "needs_background": "light"
          }
        }
      ]
    },
    {
      "cell_type": "code",
      "metadata": {
        "id": "ucf8PzPTpp86"
      },
      "source": [
        "image_height = 28\n",
        "image_width = 28"
      ],
      "execution_count": null,
      "outputs": []
    },
    {
      "cell_type": "code",
      "metadata": {
        "id": "WWR0-kUhps-N"
      },
      "source": [
        "# Grayscale image with num_channels (Rank = 1)\n",
        "num_channels = 1"
      ],
      "execution_count": null,
      "outputs": []
    },
    {
      "cell_type": "code",
      "metadata": {
        "id": "oAv8-V-Mpzos"
      },
      "source": [
        "# Reshaping of Image as per grayscale (60000, 28, 28, 1)\n",
        "train_digits = np.reshape(X_train, newshape=(60000, image_height, image_width, num_channels))\n",
        "test_digits = np.reshape(X_test, newshape=(10000, image_height, image_width, num_channels))\n"
      ],
      "execution_count": null,
      "outputs": []
    },
    {
      "cell_type": "code",
      "metadata": {
        "id": "-abysijUp2qz"
      },
      "source": [
        "# O/P Class is = 10 number of classes\n",
        "# 0 - 9 num_classes\n",
        "# 7 - [0, 0, 0, 0, 0, 0, 0, 1, 0, 0]\n",
        "# 5 - [0, 0, 0, 0, 0, 1, 0, 0, 0, 0]\n"
      ],
      "execution_count": null,
      "outputs": []
    },
    {
      "cell_type": "code",
      "metadata": {
        "id": "FzjhcyohqoQU"
      },
      "source": [
        "from keras.utils import to_categorical\n",
        "num_classes = 10\n",
        "train_labels_class = to_categorical(Y_train, num_classes)"
      ],
      "execution_count": null,
      "outputs": []
    },
    {
      "cell_type": "code",
      "metadata": {
        "id": "T4Wq-tyFrQs6",
        "outputId": "16ac1ee4-f3af-42d8-abee-b993fa51c06c",
        "colab": {
          "base_uri": "https://localhost:8080/",
          "height": 34
        }
      },
      "source": [
        "train_labels_class[1]"
      ],
      "execution_count": null,
      "outputs": [
        {
          "output_type": "execute_result",
          "data": {
            "text/plain": [
              "array([1., 0., 0., 0., 0., 0., 0., 0., 0., 0.], dtype=float32)"
            ]
          },
          "metadata": {
            "tags": []
          },
          "execution_count": 80
        }
      ]
    },
    {
      "cell_type": "code",
      "metadata": {
        "id": "Od2-ZOpJrTui",
        "outputId": "034a7731-92d3-4839-dfc6-7849d5431cfd",
        "colab": {
          "base_uri": "https://localhost:8080/",
          "height": 34
        }
      },
      "source": [
        "Y_train[1]"
      ],
      "execution_count": null,
      "outputs": [
        {
          "output_type": "execute_result",
          "data": {
            "text/plain": [
              "0"
            ]
          },
          "metadata": {
            "tags": []
          },
          "execution_count": 81
        }
      ]
    },
    {
      "cell_type": "code",
      "metadata": {
        "id": "ulVsO6P9rVhE",
        "outputId": "c4322aa2-625c-48fa-b88c-3542814fbb58",
        "colab": {
          "base_uri": "https://localhost:8080/",
          "height": 34
        }
      },
      "source": [
        "test_labels_class = to_categorical(Y_test, num_classes)\n",
        "test_labels_class[1]"
      ],
      "execution_count": null,
      "outputs": [
        {
          "output_type": "execute_result",
          "data": {
            "text/plain": [
              "array([0., 0., 1., 0., 0., 0., 0., 0., 0., 0.], dtype=float32)"
            ]
          },
          "metadata": {
            "tags": []
          },
          "execution_count": 82
        }
      ]
    },
    {
      "cell_type": "code",
      "metadata": {
        "id": "RqP7YgM2rYEV",
        "outputId": "93d6781b-9a9f-4944-d60f-e9f0fceba581",
        "colab": {
          "base_uri": "https://localhost:8080/",
          "height": 34
        }
      },
      "source": [
        "Y_test[1]"
      ],
      "execution_count": null,
      "outputs": [
        {
          "output_type": "execute_result",
          "data": {
            "text/plain": [
              "2"
            ]
          },
          "metadata": {
            "tags": []
          },
          "execution_count": 83
        }
      ]
    },
    {
      "cell_type": "markdown",
      "metadata": {
        "id": "L64j-uSzsOgE"
      },
      "source": [
        "**CNN Model**"
      ]
    },
    {
      "cell_type": "code",
      "metadata": {
        "id": "_ifA4hWUraSS"
      },
      "source": [
        "# Conv1D - csv files , signal files, ecg data\n",
        "# Conv2D & Conv3D - RGB Images & Videos , UltraSound, Grayscale  etc"
      ],
      "execution_count": null,
      "outputs": []
    },
    {
      "cell_type": "code",
      "metadata": {
        "id": "7LQy13kcsLc6"
      },
      "source": [
        "from keras.models import Sequential\n",
        "from keras.layers import Conv2D, MaxPooling2D, Flatten, Dense\n",
        "from keras.optimizers import Adam\n"
      ],
      "execution_count": null,
      "outputs": []
    },
    {
      "cell_type": "code",
      "metadata": {
        "id": "E9Mfmmwds6sI"
      },
      "source": [
        "# CNN - Feedforeward Neural Network\n",
        "def build_model():\n",
        "  model = Sequential()\n",
        "\n",
        "  # Layer - I - padding = 'same' : zero padding, padding = 'valid'\n",
        "  model.add(Conv2D(filters = 32, kernel_size=(3,3), strides=(1,1), padding='same', activation='relu',\n",
        "                   input_shape = (image_height, image_width, num_channels)))\n",
        "  model.add(MaxPooling2D(pool_size=(2,2)))\n",
        "\n",
        "  model.add(Conv2D(filters = 64, kernel_size=(3,3), strides=(1,1), padding='same', activation='relu'))\n",
        "  model.add(MaxPooling2D(pool_size=(2,2)))\n",
        "\n",
        "  model.add(Conv2D(filters = 128, kernel_size=(3,3), strides=(1,1), padding='same', activation='relu'))\n",
        "  model.add(MaxPooling2D(pool_size=(2,2)))\n",
        "\n",
        "  # Flatten Matrix\n",
        "  model.add(Flatten())\n",
        "\n",
        "  # Fully Connected Layer\n",
        "  model.add(Dense(units= 128, activation='relu'))\n",
        "\n",
        "  # Output Layer\n",
        "  model.add(Dense(units = 10, activation='softmax'))\n",
        "\n",
        "  # Model Compile\n",
        "  optimizers = Adam(learning_rate=0.001)\n",
        "\n",
        "  # loss = categorical_crossentropy\n",
        "  model.compile(loss = 'categorical_crossentropy', optimizer = optimizers, metrics = ['accuracy'])\n",
        "\n",
        "  return model"
      ],
      "execution_count": null,
      "outputs": []
    },
    {
      "cell_type": "code",
      "metadata": {
        "id": "2veI4gUWwD1F"
      },
      "source": [
        "model = build_model()"
      ],
      "execution_count": null,
      "outputs": []
    },
    {
      "cell_type": "code",
      "metadata": {
        "id": "tXFbLoHxwHQi",
        "outputId": "31dd92d5-6627-451a-fea6-75a926915610",
        "colab": {
          "base_uri": "https://localhost:8080/",
          "height": 454
        }
      },
      "source": [
        "model.summary()"
      ],
      "execution_count": null,
      "outputs": [
        {
          "output_type": "stream",
          "text": [
            "Model: \"sequential_2\"\n",
            "_________________________________________________________________\n",
            "Layer (type)                 Output Shape              Param #   \n",
            "=================================================================\n",
            "conv2d_6 (Conv2D)            (None, 28, 28, 32)        320       \n",
            "_________________________________________________________________\n",
            "max_pooling2d_6 (MaxPooling2 (None, 14, 14, 32)        0         \n",
            "_________________________________________________________________\n",
            "conv2d_7 (Conv2D)            (None, 14, 14, 64)        18496     \n",
            "_________________________________________________________________\n",
            "max_pooling2d_7 (MaxPooling2 (None, 7, 7, 64)          0         \n",
            "_________________________________________________________________\n",
            "conv2d_8 (Conv2D)            (None, 7, 7, 128)         73856     \n",
            "_________________________________________________________________\n",
            "max_pooling2d_8 (MaxPooling2 (None, 3, 3, 128)         0         \n",
            "_________________________________________________________________\n",
            "flatten_2 (Flatten)          (None, 1152)              0         \n",
            "_________________________________________________________________\n",
            "dense_4 (Dense)              (None, 128)               147584    \n",
            "_________________________________________________________________\n",
            "dense_5 (Dense)              (None, 10)                1290      \n",
            "=================================================================\n",
            "Total params: 241,546\n",
            "Trainable params: 241,546\n",
            "Non-trainable params: 0\n",
            "_________________________________________________________________\n"
          ],
          "name": "stdout"
        }
      ]
    },
    {
      "cell_type": "code",
      "metadata": {
        "id": "tQACfACawNgN",
        "outputId": "496caf93-c6a1-49c2-8da8-2d80a350fe38",
        "colab": {
          "base_uri": "https://localhost:8080/",
          "height": 521
        }
      },
      "source": [
        "history = model.fit(train_digits, train_labels_class, epochs=15, batch_size=64, validation_split=0.1)"
      ],
      "execution_count": null,
      "outputs": [
        {
          "output_type": "stream",
          "text": [
            "Epoch 1/15\n",
            "844/844 [==============================] - 4s 5ms/step - loss: 0.9257 - accuracy: 0.6528 - val_loss: 0.6728 - val_accuracy: 0.7390\n",
            "Epoch 2/15\n",
            "844/844 [==============================] - 4s 5ms/step - loss: 0.5951 - accuracy: 0.7801 - val_loss: 0.5370 - val_accuracy: 0.8027\n",
            "Epoch 3/15\n",
            "844/844 [==============================] - 4s 5ms/step - loss: 0.5062 - accuracy: 0.8133 - val_loss: 0.4653 - val_accuracy: 0.8277\n",
            "Epoch 4/15\n",
            "844/844 [==============================] - 4s 5ms/step - loss: 0.4480 - accuracy: 0.8359 - val_loss: 0.4502 - val_accuracy: 0.8378\n",
            "Epoch 5/15\n",
            "844/844 [==============================] - 4s 5ms/step - loss: 0.4063 - accuracy: 0.8517 - val_loss: 0.4084 - val_accuracy: 0.8505\n",
            "Epoch 6/15\n",
            "844/844 [==============================] - 4s 5ms/step - loss: 0.3816 - accuracy: 0.8602 - val_loss: 0.3834 - val_accuracy: 0.8570\n",
            "Epoch 7/15\n",
            "844/844 [==============================] - 4s 5ms/step - loss: 0.3602 - accuracy: 0.8684 - val_loss: 0.3756 - val_accuracy: 0.8622\n",
            "Epoch 8/15\n",
            "844/844 [==============================] - 4s 5ms/step - loss: 0.3439 - accuracy: 0.8722 - val_loss: 0.3652 - val_accuracy: 0.8630\n",
            "Epoch 9/15\n",
            "844/844 [==============================] - 4s 5ms/step - loss: 0.3299 - accuracy: 0.8782 - val_loss: 0.3449 - val_accuracy: 0.8712\n",
            "Epoch 10/15\n",
            "844/844 [==============================] - 4s 5ms/step - loss: 0.3183 - accuracy: 0.8815 - val_loss: 0.3433 - val_accuracy: 0.8740\n",
            "Epoch 11/15\n",
            "844/844 [==============================] - 4s 5ms/step - loss: 0.3050 - accuracy: 0.8886 - val_loss: 0.3138 - val_accuracy: 0.8832\n",
            "Epoch 12/15\n",
            "844/844 [==============================] - 4s 5ms/step - loss: 0.2963 - accuracy: 0.8897 - val_loss: 0.3113 - val_accuracy: 0.8850\n",
            "Epoch 13/15\n",
            "844/844 [==============================] - 4s 5ms/step - loss: 0.2853 - accuracy: 0.8947 - val_loss: 0.3052 - val_accuracy: 0.8890\n",
            "Epoch 14/15\n",
            "844/844 [==============================] - 4s 5ms/step - loss: 0.2788 - accuracy: 0.8966 - val_loss: 0.3143 - val_accuracy: 0.8833\n",
            "Epoch 15/15\n",
            "844/844 [==============================] - 4s 5ms/step - loss: 0.2681 - accuracy: 0.9011 - val_loss: 0.3055 - val_accuracy: 0.8842\n"
          ],
          "name": "stdout"
        }
      ]
    },
    {
      "cell_type": "code",
      "metadata": {
        "id": "wstu3KzyxQxM",
        "outputId": "ab4e8ac0-3e0c-48cc-8517-ff0fe3893b9a",
        "colab": {
          "base_uri": "https://localhost:8080/",
          "height": 50
        }
      },
      "source": [
        "model.evaluate(test_digits, test_labels_class)"
      ],
      "execution_count": null,
      "outputs": [
        {
          "output_type": "stream",
          "text": [
            "313/313 [==============================] - 1s 3ms/step - loss: 0.3201 - accuracy: 0.8837\n"
          ],
          "name": "stdout"
        },
        {
          "output_type": "execute_result",
          "data": {
            "text/plain": [
              "[0.32007113099098206, 0.8837000131607056]"
            ]
          },
          "metadata": {
            "tags": []
          },
          "execution_count": 90
        }
      ]
    },
    {
      "cell_type": "code",
      "metadata": {
        "id": "8vBtIoCCzKoU",
        "outputId": "688e4ac2-54e5-4436-f629-c33f4ac8467b",
        "colab": {
          "base_uri": "https://localhost:8080/",
          "height": 491
        }
      },
      "source": [
        "pd.DataFrame(history.history)"
      ],
      "execution_count": null,
      "outputs": [
        {
          "output_type": "execute_result",
          "data": {
            "text/html": [
              "<div>\n",
              "<style scoped>\n",
              "    .dataframe tbody tr th:only-of-type {\n",
              "        vertical-align: middle;\n",
              "    }\n",
              "\n",
              "    .dataframe tbody tr th {\n",
              "        vertical-align: top;\n",
              "    }\n",
              "\n",
              "    .dataframe thead th {\n",
              "        text-align: right;\n",
              "    }\n",
              "</style>\n",
              "<table border=\"1\" class=\"dataframe\">\n",
              "  <thead>\n",
              "    <tr style=\"text-align: right;\">\n",
              "      <th></th>\n",
              "      <th>loss</th>\n",
              "      <th>accuracy</th>\n",
              "      <th>val_loss</th>\n",
              "      <th>val_accuracy</th>\n",
              "    </tr>\n",
              "  </thead>\n",
              "  <tbody>\n",
              "    <tr>\n",
              "      <th>0</th>\n",
              "      <td>0.925657</td>\n",
              "      <td>0.652815</td>\n",
              "      <td>0.672799</td>\n",
              "      <td>0.739000</td>\n",
              "    </tr>\n",
              "    <tr>\n",
              "      <th>1</th>\n",
              "      <td>0.595056</td>\n",
              "      <td>0.780111</td>\n",
              "      <td>0.537035</td>\n",
              "      <td>0.802667</td>\n",
              "    </tr>\n",
              "    <tr>\n",
              "      <th>2</th>\n",
              "      <td>0.506217</td>\n",
              "      <td>0.813315</td>\n",
              "      <td>0.465317</td>\n",
              "      <td>0.827667</td>\n",
              "    </tr>\n",
              "    <tr>\n",
              "      <th>3</th>\n",
              "      <td>0.448043</td>\n",
              "      <td>0.835907</td>\n",
              "      <td>0.450233</td>\n",
              "      <td>0.837833</td>\n",
              "    </tr>\n",
              "    <tr>\n",
              "      <th>4</th>\n",
              "      <td>0.406340</td>\n",
              "      <td>0.851704</td>\n",
              "      <td>0.408410</td>\n",
              "      <td>0.850500</td>\n",
              "    </tr>\n",
              "    <tr>\n",
              "      <th>5</th>\n",
              "      <td>0.381615</td>\n",
              "      <td>0.860185</td>\n",
              "      <td>0.383449</td>\n",
              "      <td>0.857000</td>\n",
              "    </tr>\n",
              "    <tr>\n",
              "      <th>6</th>\n",
              "      <td>0.360235</td>\n",
              "      <td>0.868407</td>\n",
              "      <td>0.375613</td>\n",
              "      <td>0.862167</td>\n",
              "    </tr>\n",
              "    <tr>\n",
              "      <th>7</th>\n",
              "      <td>0.343926</td>\n",
              "      <td>0.872185</td>\n",
              "      <td>0.365244</td>\n",
              "      <td>0.863000</td>\n",
              "    </tr>\n",
              "    <tr>\n",
              "      <th>8</th>\n",
              "      <td>0.329893</td>\n",
              "      <td>0.878185</td>\n",
              "      <td>0.344946</td>\n",
              "      <td>0.871167</td>\n",
              "    </tr>\n",
              "    <tr>\n",
              "      <th>9</th>\n",
              "      <td>0.318279</td>\n",
              "      <td>0.881519</td>\n",
              "      <td>0.343258</td>\n",
              "      <td>0.874000</td>\n",
              "    </tr>\n",
              "    <tr>\n",
              "      <th>10</th>\n",
              "      <td>0.304988</td>\n",
              "      <td>0.888556</td>\n",
              "      <td>0.313796</td>\n",
              "      <td>0.883167</td>\n",
              "    </tr>\n",
              "    <tr>\n",
              "      <th>11</th>\n",
              "      <td>0.296343</td>\n",
              "      <td>0.889685</td>\n",
              "      <td>0.311284</td>\n",
              "      <td>0.885000</td>\n",
              "    </tr>\n",
              "    <tr>\n",
              "      <th>12</th>\n",
              "      <td>0.285277</td>\n",
              "      <td>0.894667</td>\n",
              "      <td>0.305237</td>\n",
              "      <td>0.889000</td>\n",
              "    </tr>\n",
              "    <tr>\n",
              "      <th>13</th>\n",
              "      <td>0.278759</td>\n",
              "      <td>0.896611</td>\n",
              "      <td>0.314288</td>\n",
              "      <td>0.883333</td>\n",
              "    </tr>\n",
              "    <tr>\n",
              "      <th>14</th>\n",
              "      <td>0.268146</td>\n",
              "      <td>0.901093</td>\n",
              "      <td>0.305468</td>\n",
              "      <td>0.884167</td>\n",
              "    </tr>\n",
              "  </tbody>\n",
              "</table>\n",
              "</div>"
            ],
            "text/plain": [
              "        loss  accuracy  val_loss  val_accuracy\n",
              "0   0.925657  0.652815  0.672799      0.739000\n",
              "1   0.595056  0.780111  0.537035      0.802667\n",
              "2   0.506217  0.813315  0.465317      0.827667\n",
              "3   0.448043  0.835907  0.450233      0.837833\n",
              "4   0.406340  0.851704  0.408410      0.850500\n",
              "5   0.381615  0.860185  0.383449      0.857000\n",
              "6   0.360235  0.868407  0.375613      0.862167\n",
              "7   0.343926  0.872185  0.365244      0.863000\n",
              "8   0.329893  0.878185  0.344946      0.871167\n",
              "9   0.318279  0.881519  0.343258      0.874000\n",
              "10  0.304988  0.888556  0.313796      0.883167\n",
              "11  0.296343  0.889685  0.311284      0.885000\n",
              "12  0.285277  0.894667  0.305237      0.889000\n",
              "13  0.278759  0.896611  0.314288      0.883333\n",
              "14  0.268146  0.901093  0.305468      0.884167"
            ]
          },
          "metadata": {
            "tags": []
          },
          "execution_count": 92
        }
      ]
    },
    {
      "cell_type": "code",
      "metadata": {
        "id": "ZZdLaDpOzadl",
        "outputId": "7b15a725-b1fa-4c22-f426-ef311d6716d9",
        "colab": {
          "base_uri": "https://localhost:8080/",
          "height": 282
        }
      },
      "source": [
        "pd.DataFrame(history.history)[['accuracy', 'val_accuracy']].plot()"
      ],
      "execution_count": null,
      "outputs": [
        {
          "output_type": "execute_result",
          "data": {
            "text/plain": [
              "<matplotlib.axes._subplots.AxesSubplot at 0x7f9cb00b7358>"
            ]
          },
          "metadata": {
            "tags": []
          },
          "execution_count": 93
        },
        {
          "output_type": "display_data",
          "data": {
            "image/png": "[encoded data removed]",
            "text/plain": [
              "<Figure size 432x288 with 1 Axes>"
            ]
          },
          "metadata": {
            "tags": [],
            "needs_background": "light"
          }
        }
      ]
    },
    {
      "cell_type": "code",
      "metadata": {
        "id": "eUS75QJpzbYJ"
      },
      "source": [
        "from keras.layers import Dropout"
      ],
      "execution_count": null,
      "outputs": []
    },
    {
      "cell_type": "code",
      "metadata": {
        "id": "fIZsvE2kzdw9"
      },
      "source": [
        "# CNN - Feedforeward Neural Network\n",
        "def build_model():\n",
        "  model = Sequential()\n",
        "\n",
        "  # Layer - I - padding = 'same' : zero padding, padding = 'valid'\n",
        "  model.add(Conv2D(filters = 32, kernel_size=(3,3), strides=(1,1), padding='same', activation='relu',\n",
        "                   input_shape = (image_height, image_width, num_channels)))\n",
        "  model.add(MaxPooling2D(pool_size=(2,2)))\n",
        "  model.add(Dropout(0.25))\n",
        "\n",
        "  model.add(Conv2D(filters = 64, kernel_size=(3,3), strides=(1,1), padding='same', activation='relu'))\n",
        "  model.add(MaxPooling2D(pool_size=(2,2)))\n",
        "  model.add(Dropout(0.25))\n",
        "\n",
        "  model.add(Conv2D(filters = 128, kernel_size=(3,3), strides=(1,1), padding='same', activation='relu'))\n",
        "  model.add(MaxPooling2D(pool_size=(2,2)))\n",
        "  model.add(Dropout(0.25))\n",
        "\n",
        "  # Flatten Matrix\n",
        "  model.add(Flatten())\n",
        "\n",
        "  # Fully Connected Layer\n",
        "  model.add(Dense(units= 128, activation='relu'))\n",
        "  model.add(Dropout(0.3))\n",
        "\n",
        "  # Output Layer\n",
        "  model.add(Dense(units = 10, activation='softmax'))\n",
        "\n",
        "  # Model Compile\n",
        "  optimizers = Adam(learning_rate=0.001)\n",
        "\n",
        "  # loss = categorical_crossentropy\n",
        "  model.compile(loss = 'categorical_crossentropy', optimizer = optimizers, metrics = ['accuracy'])\n",
        "\n",
        "  return model"
      ],
      "execution_count": null,
      "outputs": []
    },
    {
      "cell_type": "code",
      "metadata": {
        "id": "iZVjMhsZzh6h"
      },
      "source": [
        "model = build_model()"
      ],
      "execution_count": null,
      "outputs": []
    },
    {
      "cell_type": "code",
      "metadata": {
        "id": "DREqFv0bzkki",
        "outputId": "5ea9a11f-6cf9-44b4-8cd9-5b9a24ad2fe7",
        "colab": {
          "base_uri": "https://localhost:8080/",
          "height": 588
        }
      },
      "source": [
        "model.summary()"
      ],
      "execution_count": null,
      "outputs": [
        {
          "output_type": "stream",
          "text": [
            "Model: \"sequential_3\"\n",
            "_________________________________________________________________\n",
            "Layer (type)                 Output Shape              Param #   \n",
            "=================================================================\n",
            "conv2d_9 (Conv2D)            (None, 28, 28, 32)        320       \n",
            "_________________________________________________________________\n",
            "max_pooling2d_9 (MaxPooling2 (None, 14, 14, 32)        0         \n",
            "_________________________________________________________________\n",
            "dropout (Dropout)            (None, 14, 14, 32)        0         \n",
            "_________________________________________________________________\n",
            "conv2d_10 (Conv2D)           (None, 14, 14, 64)        18496     \n",
            "_________________________________________________________________\n",
            "max_pooling2d_10 (MaxPooling (None, 7, 7, 64)          0         \n",
            "_________________________________________________________________\n",
            "dropout_1 (Dropout)          (None, 7, 7, 64)          0         \n",
            "_________________________________________________________________\n",
            "conv2d_11 (Conv2D)           (None, 7, 7, 128)         73856     \n",
            "_________________________________________________________________\n",
            "max_pooling2d_11 (MaxPooling (None, 3, 3, 128)         0         \n",
            "_________________________________________________________________\n",
            "dropout_2 (Dropout)          (None, 3, 3, 128)         0         \n",
            "_________________________________________________________________\n",
            "flatten_3 (Flatten)          (None, 1152)              0         \n",
            "_________________________________________________________________\n",
            "dense_6 (Dense)              (None, 128)               147584    \n",
            "_________________________________________________________________\n",
            "dropout_3 (Dropout)          (None, 128)               0         \n",
            "_________________________________________________________________\n",
            "dense_7 (Dense)              (None, 10)                1290      \n",
            "=================================================================\n",
            "Total params: 241,546\n",
            "Trainable params: 241,546\n",
            "Non-trainable params: 0\n",
            "_________________________________________________________________\n"
          ],
          "name": "stdout"
        }
      ]
    },
    {
      "cell_type": "code",
      "metadata": {
        "id": "xVaAdxlTznBc",
        "outputId": "09e69888-3c05-4202-99a6-2b797b3d6fa2",
        "colab": {
          "base_uri": "https://localhost:8080/",
          "height": 521
        }
      },
      "source": [
        "history = model.fit(train_digits, train_labels_class, epochs=15, batch_size=64, validation_split=0.1)"
      ],
      "execution_count": null,
      "outputs": [
        {
          "output_type": "stream",
          "text": [
            "Epoch 1/15\n",
            "844/844 [==============================] - 5s 6ms/step - loss: 1.1426 - accuracy: 0.5670 - val_loss: 0.6526 - val_accuracy: 0.7517\n",
            "Epoch 2/15\n",
            "844/844 [==============================] - 5s 5ms/step - loss: 0.6930 - accuracy: 0.7381 - val_loss: 0.5823 - val_accuracy: 0.7805\n",
            "Epoch 3/15\n",
            "844/844 [==============================] - 5s 5ms/step - loss: 0.6195 - accuracy: 0.7657 - val_loss: 0.5116 - val_accuracy: 0.8033\n",
            "Epoch 4/15\n",
            "844/844 [==============================] - 5s 5ms/step - loss: 0.5680 - accuracy: 0.7852 - val_loss: 0.4684 - val_accuracy: 0.8218\n",
            "Epoch 5/15\n",
            "844/844 [==============================] - 5s 6ms/step - loss: 0.5281 - accuracy: 0.8006 - val_loss: 0.4415 - val_accuracy: 0.8330\n",
            "Epoch 6/15\n",
            "844/844 [==============================] - 5s 6ms/step - loss: 0.5036 - accuracy: 0.8107 - val_loss: 0.4353 - val_accuracy: 0.8378\n",
            "Epoch 7/15\n",
            "844/844 [==============================] - 5s 5ms/step - loss: 0.4790 - accuracy: 0.8191 - val_loss: 0.4103 - val_accuracy: 0.8448\n",
            "Epoch 8/15\n",
            "844/844 [==============================] - 5s 5ms/step - loss: 0.4636 - accuracy: 0.8260 - val_loss: 0.3783 - val_accuracy: 0.8577\n",
            "Epoch 9/15\n",
            "844/844 [==============================] - 5s 5ms/step - loss: 0.4494 - accuracy: 0.8320 - val_loss: 0.3710 - val_accuracy: 0.8587\n",
            "Epoch 10/15\n",
            "844/844 [==============================] - 5s 5ms/step - loss: 0.4340 - accuracy: 0.8382 - val_loss: 0.3675 - val_accuracy: 0.8573\n",
            "Epoch 11/15\n",
            "844/844 [==============================] - 5s 5ms/step - loss: 0.4228 - accuracy: 0.8419 - val_loss: 0.3526 - val_accuracy: 0.8633\n",
            "Epoch 12/15\n",
            "844/844 [==============================] - 4s 5ms/step - loss: 0.4107 - accuracy: 0.8463 - val_loss: 0.3661 - val_accuracy: 0.8602\n",
            "Epoch 13/15\n",
            "844/844 [==============================] - 5s 5ms/step - loss: 0.4091 - accuracy: 0.8472 - val_loss: 0.3499 - val_accuracy: 0.8648\n",
            "Epoch 14/15\n",
            "844/844 [==============================] - 5s 5ms/step - loss: 0.3988 - accuracy: 0.8506 - val_loss: 0.3377 - val_accuracy: 0.8700\n",
            "Epoch 15/15\n",
            "844/844 [==============================] - 5s 5ms/step - loss: 0.3930 - accuracy: 0.8514 - val_loss: 0.3454 - val_accuracy: 0.8707\n"
          ],
          "name": "stdout"
        }
      ]
    },
    {
      "cell_type": "code",
      "metadata": {
        "id": "Mfvv4VACzp9c",
        "outputId": "607ffef7-b2d2-43bc-bee6-0d26c878dea7",
        "colab": {
          "base_uri": "https://localhost:8080/",
          "height": 50
        }
      },
      "source": [
        "model.evaluate(test_digits, test_labels_class)"
      ],
      "execution_count": null,
      "outputs": [
        {
          "output_type": "stream",
          "text": [
            "313/313 [==============================] - 1s 2ms/step - loss: 0.3666 - accuracy: 0.8648\n"
          ],
          "name": "stdout"
        },
        {
          "output_type": "execute_result",
          "data": {
            "text/plain": [
              "[0.3665830194950104, 0.864799976348877]"
            ]
          },
          "metadata": {
            "tags": []
          },
          "execution_count": 99
        }
      ]
    },
    {
      "cell_type": "code",
      "metadata": {
        "id": "Mz3PKGYT0Rr6",
        "outputId": "96b5f1ae-212a-4e56-ce06-0ec10a84f90e",
        "colab": {
          "base_uri": "https://localhost:8080/",
          "height": 491
        }
      },
      "source": [
        "pd.DataFrame(history.history)"
      ],
      "execution_count": null,
      "outputs": [
        {
          "output_type": "execute_result",
          "data": {
            "text/html": [
              "<div>\n",
              "<style scoped>\n",
              "    .dataframe tbody tr th:only-of-type {\n",
              "        vertical-align: middle;\n",
              "    }\n",
              "\n",
              "    .dataframe tbody tr th {\n",
              "        vertical-align: top;\n",
              "    }\n",
              "\n",
              "    .dataframe thead th {\n",
              "        text-align: right;\n",
              "    }\n",
              "</style>\n",
              "<table border=\"1\" class=\"dataframe\">\n",
              "  <thead>\n",
              "    <tr style=\"text-align: right;\">\n",
              "      <th></th>\n",
              "      <th>loss</th>\n",
              "      <th>accuracy</th>\n",
              "      <th>val_loss</th>\n",
              "      <th>val_accuracy</th>\n",
              "    </tr>\n",
              "  </thead>\n",
              "  <tbody>\n",
              "    <tr>\n",
              "      <th>0</th>\n",
              "      <td>1.142638</td>\n",
              "      <td>0.567019</td>\n",
              "      <td>0.652561</td>\n",
              "      <td>0.751667</td>\n",
              "    </tr>\n",
              "    <tr>\n",
              "      <th>1</th>\n",
              "      <td>0.693003</td>\n",
              "      <td>0.738111</td>\n",
              "      <td>0.582335</td>\n",
              "      <td>0.780500</td>\n",
              "    </tr>\n",
              "    <tr>\n",
              "      <th>2</th>\n",
              "      <td>0.619549</td>\n",
              "      <td>0.765667</td>\n",
              "      <td>0.511570</td>\n",
              "      <td>0.803333</td>\n",
              "    </tr>\n",
              "    <tr>\n",
              "      <th>3</th>\n",
              "      <td>0.568036</td>\n",
              "      <td>0.785167</td>\n",
              "      <td>0.468361</td>\n",
              "      <td>0.821833</td>\n",
              "    </tr>\n",
              "    <tr>\n",
              "      <th>4</th>\n",
              "      <td>0.528113</td>\n",
              "      <td>0.800648</td>\n",
              "      <td>0.441528</td>\n",
              "      <td>0.833000</td>\n",
              "    </tr>\n",
              "    <tr>\n",
              "      <th>5</th>\n",
              "      <td>0.503560</td>\n",
              "      <td>0.810667</td>\n",
              "      <td>0.435304</td>\n",
              "      <td>0.837833</td>\n",
              "    </tr>\n",
              "    <tr>\n",
              "      <th>6</th>\n",
              "      <td>0.478952</td>\n",
              "      <td>0.819148</td>\n",
              "      <td>0.410325</td>\n",
              "      <td>0.844833</td>\n",
              "    </tr>\n",
              "    <tr>\n",
              "      <th>7</th>\n",
              "      <td>0.463572</td>\n",
              "      <td>0.826000</td>\n",
              "      <td>0.378327</td>\n",
              "      <td>0.857667</td>\n",
              "    </tr>\n",
              "    <tr>\n",
              "      <th>8</th>\n",
              "      <td>0.449410</td>\n",
              "      <td>0.832037</td>\n",
              "      <td>0.371019</td>\n",
              "      <td>0.858667</td>\n",
              "    </tr>\n",
              "    <tr>\n",
              "      <th>9</th>\n",
              "      <td>0.434031</td>\n",
              "      <td>0.838241</td>\n",
              "      <td>0.367497</td>\n",
              "      <td>0.857333</td>\n",
              "    </tr>\n",
              "    <tr>\n",
              "      <th>10</th>\n",
              "      <td>0.422770</td>\n",
              "      <td>0.841907</td>\n",
              "      <td>0.352573</td>\n",
              "      <td>0.863333</td>\n",
              "    </tr>\n",
              "    <tr>\n",
              "      <th>11</th>\n",
              "      <td>0.410683</td>\n",
              "      <td>0.846315</td>\n",
              "      <td>0.366110</td>\n",
              "      <td>0.860167</td>\n",
              "    </tr>\n",
              "    <tr>\n",
              "      <th>12</th>\n",
              "      <td>0.409125</td>\n",
              "      <td>0.847204</td>\n",
              "      <td>0.349898</td>\n",
              "      <td>0.864833</td>\n",
              "    </tr>\n",
              "    <tr>\n",
              "      <th>13</th>\n",
              "      <td>0.398827</td>\n",
              "      <td>0.850556</td>\n",
              "      <td>0.337666</td>\n",
              "      <td>0.870000</td>\n",
              "    </tr>\n",
              "    <tr>\n",
              "      <th>14</th>\n",
              "      <td>0.393009</td>\n",
              "      <td>0.851426</td>\n",
              "      <td>0.345356</td>\n",
              "      <td>0.870667</td>\n",
              "    </tr>\n",
              "  </tbody>\n",
              "</table>\n",
              "</div>"
            ],
            "text/plain": [
              "        loss  accuracy  val_loss  val_accuracy\n",
              "0   1.142638  0.567019  0.652561      0.751667\n",
              "1   0.693003  0.738111  0.582335      0.780500\n",
              "2   0.619549  0.765667  0.511570      0.803333\n",
              "3   0.568036  0.785167  0.468361      0.821833\n",
              "4   0.528113  0.800648  0.441528      0.833000\n",
              "5   0.503560  0.810667  0.435304      0.837833\n",
              "6   0.478952  0.819148  0.410325      0.844833\n",
              "7   0.463572  0.826000  0.378327      0.857667\n",
              "8   0.449410  0.832037  0.371019      0.858667\n",
              "9   0.434031  0.838241  0.367497      0.857333\n",
              "10  0.422770  0.841907  0.352573      0.863333\n",
              "11  0.410683  0.846315  0.366110      0.860167\n",
              "12  0.409125  0.847204  0.349898      0.864833\n",
              "13  0.398827  0.850556  0.337666      0.870000\n",
              "14  0.393009  0.851426  0.345356      0.870667"
            ]
          },
          "metadata": {
            "tags": []
          },
          "execution_count": 100
        }
      ]
    },
    {
      "cell_type": "code",
      "metadata": {
        "id": "wtLazr3H0V96"
      },
      "source": [
        "predictions = model.predict(test_digits)"
      ],
      "execution_count": null,
      "outputs": []
    },
    {
      "cell_type": "code",
      "metadata": {
        "id": "fw_E7ata0wzq"
      },
      "source": [
        "# Converts categorical o/p into integer o/p\n",
        "yhat = np.argmax(predictions, axis=1)"
      ],
      "execution_count": null,
      "outputs": []
    },
    {
      "cell_type": "code",
      "metadata": {
        "id": "o3KPEHpP01vx",
        "outputId": "05e6f3e9-a2be-49c9-cbdf-e095c8b497fd",
        "colab": {
          "base_uri": "https://localhost:8080/",
          "height": 185
        }
      },
      "source": [
        "from sklearn.metrics import confusion_matrix, classification_report\n",
        "confusion_matrix(Y_test, yhat)\n"
      ],
      "execution_count": null,
      "outputs": [
        {
          "output_type": "execute_result",
          "data": {
            "text/plain": [
              "array([[809,   0,  26,  25,   4,   3, 128,   1,   4,   0],\n",
              "       [  2, 975,   1,  12,   3,   0,   7,   0,   0,   0],\n",
              "       [ 11,   0, 852,   9,  69,   0,  58,   0,   1,   0],\n",
              "       [ 13,   9,  19, 874,  39,   1,  43,   0,   2,   0],\n",
              "       [  1,   1, 174,  32, 716,   0,  74,   0,   2,   0],\n",
              "       [  0,   0,   0,   0,   0, 959,   0,  33,   0,   8],\n",
              "       [151,   0, 142,  22,  74,   0, 601,   0,  10,   0],\n",
              "       [  0,   0,   0,   0,   0,  11,   0, 966,   0,  23],\n",
              "       [  0,   1,  12,   2,   2,   2,   5,   5, 970,   1],\n",
              "       [  1,   0,   0,   0,   0,  12,   0,  61,   0, 926]])"
            ]
          },
          "metadata": {
            "tags": []
          },
          "execution_count": 105
        }
      ]
    },
    {
      "cell_type": "code",
      "metadata": {
        "id": "eHuTI1Cv05iK",
        "outputId": "8dae21a6-61f8-4cd6-d23e-3da0148b97c7",
        "colab": {
          "base_uri": "https://localhost:8080/",
          "height": 500
        }
      },
      "source": [
        "plt.figure(figsize=(12,8))\n",
        "sns.heatmap(confusion_matrix(Y_test , yhat), annot=True, fmt='0.0f')"
      ],
      "execution_count": null,
      "outputs": [
        {
          "output_type": "execute_result",
          "data": {
            "text/plain": [
              "<matplotlib.axes._subplots.AxesSubplot at 0x7f9c40949240>"
            ]
          },
          "metadata": {
            "tags": []
          },
          "execution_count": 106
        },
        {
          "output_type": "display_data",
          "data": {
            "image/png": "[encoded data removed]",
            "text/plain": [
              "<Figure size 864x576 with 2 Axes>"
            ]
          },
          "metadata": {
            "tags": [],
            "needs_background": "light"
          }
        }
      ]
    },
    {
      "cell_type": "code",
      "metadata": {
        "id": "PRKv5u471Byb",
        "outputId": "ca76263c-46d8-4182-e4de-a6f0e6c5befc",
        "colab": {
          "base_uri": "https://localhost:8080/",
          "height": 302
        }
      },
      "source": [
        "print(classification_report(Y_test, yhat))"
      ],
      "execution_count": null,
      "outputs": [
        {
          "output_type": "stream",
          "text": [
            "              precision    recall  f1-score   support\n",
            "\n",
            "           0       0.82      0.81      0.81      1000\n",
            "           1       0.99      0.97      0.98      1000\n",
            "           2       0.69      0.85      0.77      1000\n",
            "           3       0.90      0.87      0.88      1000\n",
            "           4       0.79      0.72      0.75      1000\n",
            "           5       0.97      0.96      0.96      1000\n",
            "           6       0.66      0.60      0.63      1000\n",
            "           7       0.91      0.97      0.94      1000\n",
            "           8       0.98      0.97      0.98      1000\n",
            "           9       0.97      0.93      0.95      1000\n",
            "\n",
            "    accuracy                           0.86     10000\n",
            "   macro avg       0.87      0.86      0.86     10000\n",
            "weighted avg       0.87      0.86      0.86     10000\n",
            "\n"
          ],
          "name": "stdout"
        }
      ]
    },
    {
      "cell_type": "markdown",
      "metadata": {
        "id": "MF_jRejD1op6"
      },
      "source": [
        "**New Prediction**"
      ]
    },
    {
      "cell_type": "code",
      "metadata": {
        "id": "PQkWdR0X1I7G"
      },
      "source": [
        "import cv2"
      ],
      "execution_count": null,
      "outputs": []
    },
    {
      "cell_type": "code",
      "metadata": {
        "id": "XEo0oWEU1tCW"
      },
      "source": [
        "# 0 - Gray Scale\n",
        "img = cv2.imread('/content/tshirt', 0)"
      ],
      "execution_count": null,
      "outputs": []
    },
    {
      "cell_type": "code",
      "metadata": {
        "id": "0UbnSNCi2Qbe",
        "outputId": "d8de471d-091e-469f-df9e-22bfbfaadad4",
        "colab": {
          "base_uri": "https://localhost:8080/",
          "height": 34
        }
      },
      "source": [
        "img.shape"
      ],
      "execution_count": null,
      "outputs": [
        {
          "output_type": "execute_result",
          "data": {
            "text/plain": [
              "(1334, 1000)"
            ]
          },
          "metadata": {
            "tags": []
          },
          "execution_count": 112
        }
      ]
    },
    {
      "cell_type": "code",
      "metadata": {
        "id": "RhKIf0_G2Tke",
        "outputId": "f5790ced-84d0-4dad-dd6a-d478cb568929",
        "colab": {
          "base_uri": "https://localhost:8080/",
          "height": 34
        }
      },
      "source": [
        "test_digits.shape"
      ],
      "execution_count": null,
      "outputs": [
        {
          "output_type": "execute_result",
          "data": {
            "text/plain": [
              "(10000, 28, 28, 1)"
            ]
          },
          "metadata": {
            "tags": []
          },
          "execution_count": 113
        }
      ]
    },
    {
      "cell_type": "code",
      "metadata": {
        "id": "flhUkKKA2eWT"
      },
      "source": [
        "img_data = cv2.resize(img, (28,28))"
      ],
      "execution_count": null,
      "outputs": []
    },
    {
      "cell_type": "code",
      "metadata": {
        "id": "H5C6NQoB2gK7",
        "outputId": "edd577aa-a79d-4623-8588-c8f37d5e3378",
        "colab": {
          "base_uri": "https://localhost:8080/",
          "height": 282
        }
      },
      "source": [
        "plt.imshow(img_data, cmap = 'gray')\n"
      ],
      "execution_count": null,
      "outputs": [
        {
          "output_type": "execute_result",
          "data": {
            "text/plain": [
              "<matplotlib.image.AxesImage at 0x7f9c3f85b278>"
            ]
          },
          "metadata": {
            "tags": []
          },
          "execution_count": 115
        },
        {
          "output_type": "display_data",
          "data": {
            "image/png": "[encoded data removed]",
            "text/plain": [
              "<Figure size 432x288 with 1 Axes>"
            ]
          },
          "metadata": {
            "tags": [],
            "needs_background": "light"
          }
        }
      ]
    },
    {
      "cell_type": "code",
      "metadata": {
        "id": "Ho_WsRaN2iWq"
      },
      "source": [
        "# Bitwise operation not for image samples\n",
        "img_data = cv2.bitwise_not(img_data)\n"
      ],
      "execution_count": null,
      "outputs": []
    },
    {
      "cell_type": "code",
      "metadata": {
        "id": "-FpThCPt2kmf",
        "outputId": "c6819af7-cf55-4ea6-e105-8479e0eea518",
        "colab": {
          "base_uri": "https://localhost:8080/",
          "height": 282
        }
      },
      "source": [
        "plt.imshow(img_data, cmap = 'gray')"
      ],
      "execution_count": null,
      "outputs": [
        {
          "output_type": "execute_result",
          "data": {
            "text/plain": [
              "<matplotlib.image.AxesImage at 0x7f9c334c8358>"
            ]
          },
          "metadata": {
            "tags": []
          },
          "execution_count": 117
        },
        {
          "output_type": "display_data",
          "data": {
            "image/png": "[encoded data removed]",
            "text/plain": [
              "<Figure size 432x288 with 1 Axes>"
            ]
          },
          "metadata": {
            "tags": [],
            "needs_background": "light"
          }
        }
      ]
    },
    {
      "cell_type": "code",
      "metadata": {
        "id": "wZ5Um7982mcF"
      },
      "source": [
        "# input shape (1, 28, 28, 1)\n",
        "img_new = np.reshape(img_data, (1, image_height, image_width, num_channels))\n"
      ],
      "execution_count": null,
      "outputs": []
    },
    {
      "cell_type": "code",
      "metadata": {
        "id": "YkFF5h-H2odY",
        "outputId": "84585694-f200-4292-f6e7-564447af7fc6",
        "colab": {
          "base_uri": "https://localhost:8080/",
          "height": 34
        }
      },
      "source": [
        "np.argmax(model.predict(img_new))"
      ],
      "execution_count": null,
      "outputs": [
        {
          "output_type": "execute_result",
          "data": {
            "text/plain": [
              "2"
            ]
          },
          "metadata": {
            "tags": []
          },
          "execution_count": 119
        }
      ]
    },
    {
      "cell_type": "code",
      "metadata": {
        "id": "jOg1Ks2O2qTU",
        "outputId": "abc4797a-fbbe-4424-be0b-8305f794a8d0",
        "colab": {
          "base_uri": "https://localhost:8080/",
          "height": 281
        }
      },
      "source": [
        "plt.imshow(img_data, cmap = 'gray')\n",
        "plt.title(\"Predicted o/p: %i\" %np.argmax(model.predict(img_new)))\n",
        "plt.show()\n"
      ],
      "execution_count": null,
      "outputs": [
        {
          "output_type": "display_data",
          "data": {
            "image/png": "[encoded data removed]",
            "text/plain": [
              "<Figure size 432x288 with 1 Axes>"
            ]
          },
          "metadata": {
            "tags": [],
            "needs_background": "light"
          }
        }
      ]
    },
    {
      "cell_type": "code",
      "metadata": {
        "id": "jBEMM0Q22xRt"
      },
      "source": [],
      "execution_count": null,
      "outputs": []
    }
  ]
}